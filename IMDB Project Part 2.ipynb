{
 "cells": [
  {
   "cell_type": "markdown",
   "id": "de9aa29d",
   "metadata": {},
   "source": [
    "# # Your stakeholder wants you to extract the budget, revenue, and MPAA Rating (G/PG/PG-13/R), which is also called \"Certification\"."
   ]
  },
  {
   "cell_type": "markdown",
   "id": "69d1d4da",
   "metadata": {},
   "source": [
    "# Specifications - Financial Data\n",
    "\n",
    "Your stakeholder would like you to extract and save the results for movies that meet all of the criteria established in part 1 of the project (You should already have a filtered dataframe saved from part one as a csv.gz file)\n",
    "\n",
    "As a proof-of-concept, they requested you perform a test extraction of movies that started in 2000 or 2001\n",
    "\n",
    "Each year should be saved as a separate .csv.gz file\n",
    "Hint: Use the two custom functions from the lessons (Intro to TMDB API, and Efficient TMDB API Calls). Be sure to define these functions prior to calling them in your code!\n",
    "\n",
    "One function will add the certification (MPGG Rating) to movie.info\n",
    "The other function will help you append/extend a JSON file with Python"
   ]
  },
  {
   "cell_type": "markdown",
   "id": "4e49c6f4",
   "metadata": {},
   "source": [
    "# Confirm Your API Function works.\n",
    "\n",
    "In order to ensure your function for extracting movie data from TMDB is working, test your function on these 2 movie ids: tt0848228 (\"The Avengers\") and tt0332280 (\"The Notebook\"). Make sure that your function runs without error and that it returns the correct movie's data for both test ids.\n"
   ]
  },
  {
   "cell_type": "markdown",
   "id": "63ef1dc8",
   "metadata": {},
   "source": [
    "Hint: Ideally you can organize the code segments from the previous lesson to create an outer and inner loop, but if you get stuck, you can complete 1 year at a time."
   ]
  },
  {
   "cell_type": "markdown",
   "id": "91065ad1",
   "metadata": {},
   "source": [
    "Once you have retrieved and saved the final results to 2 separate .csv.gz files, move on to a new Exploratory Data Analysis notebook to explore the following questions."
   ]
  },
  {
   "cell_type": "markdown",
   "id": "26db970e",
   "metadata": {},
   "source": [
    "# Exploratory Data Analysis\n",
    "\n",
    "Load in your csv.gz's of results for each year extracted.\n",
    "Concatenate the data into 1 dataframe for the remainder of the analysis.\n",
    "Once you have your data from the API, they would like you to perform some light EDA to show:\n",
    "How many movies had at least some valid financial information (values > 0 for budget OR revenue)?\n",
    "Please exclude any movies with 0's for budget AND revenue from the remaining visualizations.\n",
    "How many movies are there in each of the certification categories (G/PG/PG-13/R)?\n",
    "What is the average revenue per certification category?\n",
    "What is the average budget per certification category?"
   ]
  },
  {
   "cell_type": "markdown",
   "id": "22779b70",
   "metadata": {},
   "source": [
    "# Exploratory Data Analysis\n",
    "\n",
    "Load in your csv.gz's of results for each year extracted.\n",
    "Concatenate the data into 1 dataframe for the remainder of the analysis.\n",
    "Once you have your data from the API, they would like you to perform some light EDA to show:\n",
    "How many movies had at least some valid financial information (values > 0 for budget OR revenue)?\n",
    "Please exclude any movies with 0's for budget AND revenue from the remaining visualizations.\n",
    "How many movies are there in each of the certification categories (G/PG/PG-13/R)?\n",
    "What is the average revenue per certification category?\n",
    "What is the average budget per certification category?"
   ]
  },
  {
   "cell_type": "markdown",
   "id": "42657204",
   "metadata": {},
   "source": [
    "# Deliverables\n",
    "\n",
    "After you have joined the tmdb results into 1 dataframe in the EDA Notebook,\n",
    "\n",
    "Save a final merged .csv.gz of all of the tmdb api data\n",
    "The file name should be \"tmdb_results_combined.csv.gz\"\n",
    "Make sure this is pushed to your github repository along with all of your code\n",
    "One code file for API calls\n",
    "One code file for EDA\n",
    "Submit the link"
   ]
  },
  {
   "cell_type": "code",
   "execution_count": null,
   "id": "ec020da7",
   "metadata": {},
   "outputs": [],
   "source": []
  },
  {
   "cell_type": "code",
   "execution_count": null,
   "id": "ab82f80a",
   "metadata": {},
   "outputs": [],
   "source": []
  },
  {
   "cell_type": "code",
   "execution_count": null,
   "id": "4082aac6",
   "metadata": {},
   "outputs": [],
   "source": []
  },
  {
   "cell_type": "code",
   "execution_count": null,
   "id": "cbc2ce7c",
   "metadata": {},
   "outputs": [],
   "source": []
  },
  {
   "cell_type": "code",
   "execution_count": null,
   "id": "0b41cac5",
   "metadata": {},
   "outputs": [],
   "source": []
  },
  {
   "cell_type": "code",
   "execution_count": null,
   "id": "0f8c8705",
   "metadata": {},
   "outputs": [],
   "source": []
  },
  {
   "cell_type": "code",
   "execution_count": null,
   "id": "93f3afd1",
   "metadata": {},
   "outputs": [],
   "source": []
  },
  {
   "cell_type": "code",
   "execution_count": null,
   "id": "2f0f9fd0",
   "metadata": {},
   "outputs": [],
   "source": []
  },
  {
   "cell_type": "code",
   "execution_count": null,
   "id": "123bfc08",
   "metadata": {},
   "outputs": [],
   "source": []
  },
  {
   "cell_type": "code",
   "execution_count": null,
   "id": "ad796d4b",
   "metadata": {},
   "outputs": [],
   "source": []
  },
  {
   "cell_type": "code",
   "execution_count": null,
   "id": "0e7f72ff",
   "metadata": {},
   "outputs": [],
   "source": []
  },
  {
   "cell_type": "code",
   "execution_count": null,
   "id": "3def5c5f",
   "metadata": {},
   "outputs": [],
   "source": []
  }
 ],
 "metadata": {
  "kernelspec": {
   "display_name": "Python (dojo-env)",
   "language": "python",
   "name": "dojo-env"
  },
  "language_info": {
   "codemirror_mode": {
    "name": "ipython",
    "version": 3
   },
   "file_extension": ".py",
   "mimetype": "text/x-python",
   "name": "python",
   "nbconvert_exporter": "python",
   "pygments_lexer": "ipython3",
   "version": "3.9.15"
  },
  "toc": {
   "base_numbering": 1,
   "nav_menu": {},
   "number_sections": true,
   "sideBar": true,
   "skip_h1_title": false,
   "title_cell": "Table of Contents",
   "title_sidebar": "Contents",
   "toc_cell": false,
   "toc_position": {},
   "toc_section_display": true,
   "toc_window_display": false
  }
 },
 "nbformat": 4,
 "nbformat_minor": 5
}
